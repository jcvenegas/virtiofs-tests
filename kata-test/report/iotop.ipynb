{
 "cells": [
  {
   "cell_type": "code",
   "execution_count": null,
   "metadata": {},
   "outputs": [],
   "source": [
    "import iotop\n",
    "import os\n",
    "import glob\n",
    "import pandas\n",
    "files=glob.glob(\"./results/**/iotop.csv\")\n",
    "if len(files) == 0:\n",
    "    raise(\"No iotop.csv files found\")\n",
    "\n",
    "for f in files:\n",
    "    df_results = iotop.import_data_from_csv(f)\n",
    "    df_read = iotop.get_op_by_process(df_results,\"read\")\n",
    "    df_write = iotop.get_op_by_process(df_results,\"write\")\n",
    "    print(\"Container config:\" + f)\n",
    "    d = pandas.concat([df_read,df_write])\n",
    "    iotop.plot_iotop_by_process(d)"
   ]
  }
 ],
 "metadata": {
  "kernelspec": {
   "display_name": "Python 3",
   "language": "python",
   "name": "python3"
  },
  "language_info": {
   "codemirror_mode": {
    "name": "ipython",
    "version": 3
   },
   "file_extension": ".py",
   "mimetype": "text/x-python",
   "name": "python",
   "nbconvert_exporter": "python",
   "pygments_lexer": "ipython3",
   "version": "3.8.6"
  }
 },
 "nbformat": 4,
 "nbformat_minor": 4
}
