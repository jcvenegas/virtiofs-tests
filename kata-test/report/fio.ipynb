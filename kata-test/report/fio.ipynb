{
 "cells": [
  {
   "cell_type": "markdown",
   "metadata": {
    "id": "tWacOPbMYPtc"
   },
   "source": [
    "# FIO comparision\n",
    "\n",
    "Compare Kata using different shared fs methods.\n"
   ]
  },
  {
   "cell_type": "code",
   "execution_count": null,
   "metadata": {
    "id": "jXtTs6yldl_y"
   },
   "outputs": [],
   "source": [
    "import fio\n",
    "\n",
    "fio.check_results_dir()    \n",
    "df_results = fio.import_data_from_csv()"
   ]
  },
  {
   "cell_type": "code",
   "execution_count": null,
   "metadata": {
    "cellView": "form",
    "id": "R6FVssRcYG13"
   },
   "outputs": [],
   "source": [
    "names,write_bandwidth = fio.get_metrics_by_testname(df_results, 'bw_w')\n",
    "_,    read_bandwidth  = fio.get_metrics_by_testname(df_results, 'bw_r')\n",
    "_,    write_iops      = fio.get_metrics_by_testname(df_results, 'IOPS_w')\n",
    "_,    read_iops       = fio.get_metrics_by_testname(df_results, 'IOPS_r')"
   ]
  },
  {
   "cell_type": "code",
   "execution_count": null,
   "metadata": {
    "colab": {
     "base_uri": "https://localhost:8080/",
     "height": 424
    },
    "id": "YcOIQLDKIvKS",
    "outputId": "2ded9385-10fd-4d84-f5ba-6e620397dd70"
   },
   "outputs": [],
   "source": [
    "fio.show_df(df_results)"
   ]
  },
  {
   "cell_type": "code",
   "execution_count": null,
   "metadata": {
    "colab": {
     "base_uri": "https://localhost:8080/",
     "height": 426
    },
    "id": "J0Q_l2zNYpN3",
    "outputId": "18388723-3627-4e2c-edf2-98054ba814a1"
   },
   "outputs": [],
   "source": [
    "fio.show_df(write_bandwidth)"
   ]
  },
  {
   "cell_type": "code",
   "execution_count": null,
   "metadata": {
    "colab": {
     "base_uri": "https://localhost:8080/",
     "height": 717
    },
    "id": "soKzRC9wWghv",
    "outputId": "e795f064-d4ca-46f4-94bb-a75763578ec5"
   },
   "outputs": [],
   "source": [
    "fio.plot_df(write_bandwidth, names)"
   ]
  },
  {
   "cell_type": "code",
   "execution_count": null,
   "metadata": {
    "colab": {
     "base_uri": "https://localhost:8080/"
    },
    "id": "6WjGbXXTYwyv",
    "outputId": "3b6ca945-8d50-4d9f-9bc3-be9c13dbea61"
   },
   "outputs": [],
   "source": [
    "fio.show_df(read_bandwidth)"
   ]
  },
  {
   "cell_type": "code",
   "execution_count": null,
   "metadata": {
    "colab": {
     "base_uri": "https://localhost:8080/"
    },
    "id": "MbGobfKfWDv4",
    "outputId": "ff5b40de-4a1d-4462-ca2a-324d9298cdfa"
   },
   "outputs": [],
   "source": [
    "fio.plot_df(read_bandwidth,names)"
   ]
  },
  {
   "cell_type": "code",
   "execution_count": null,
   "metadata": {
    "colab": {
     "base_uri": "https://localhost:8080/"
    },
    "id": "LiUY6f0RY6Bg",
    "outputId": "755c1cfe-5676-4324-cb05-6c4ed4878839"
   },
   "outputs": [],
   "source": [
    "fio.show_df(write_iops)"
   ]
  },
  {
   "cell_type": "code",
   "execution_count": null,
   "metadata": {
    "colab": {
     "base_uri": "https://localhost:8080/"
    },
    "id": "6JRRud_KX0uU",
    "outputId": "1ff87bf7-dc6f-47b6-ef96-78ede7ac3a70"
   },
   "outputs": [],
   "source": [
    "fio.plot_df(write_iops, names)"
   ]
  },
  {
   "cell_type": "code",
   "execution_count": null,
   "metadata": {
    "colab": {
     "base_uri": "https://localhost:8080/"
    },
    "id": "SLMBxPGuY72L",
    "outputId": "c7ae8b41-af4d-40fa-8057-2f36bad346ae"
   },
   "outputs": [],
   "source": [
    "fio.show_df(read_iops)"
   ]
  },
  {
   "cell_type": "code",
   "execution_count": null,
   "metadata": {
    "colab": {
     "base_uri": "https://localhost:8080/"
    },
    "id": "aMq2uhcFX6NU",
    "outputId": "7c7af916-7dec-4f3f-ad5e-cbce47c4157c"
   },
   "outputs": [],
   "source": [
    "fio.plot_df(read_iops, names)"
   ]
  }
 ],
 "metadata": {
  "colab": {
   "collapsed_sections": [],
   "name": "fio.ipynb",
   "provenance": []
  },
  "kernelspec": {
   "display_name": "Python 3",
   "language": "python",
   "name": "python3"
  },
  "language_info": {
   "codemirror_mode": {
    "name": "ipython",
    "version": 3
   },
   "file_extension": ".py",
   "mimetype": "text/x-python",
   "name": "python",
   "nbconvert_exporter": "python",
   "pygments_lexer": "ipython3",
   "version": "3.8.6"
  }
 },
 "nbformat": 4,
 "nbformat_minor": 4
}
